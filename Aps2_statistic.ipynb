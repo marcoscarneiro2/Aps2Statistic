{
 "cells": [
  {
   "cell_type": "code",
   "execution_count": 1,
   "id": "a2f1fa9f",
   "metadata": {},
   "outputs": [],
   "source": [
    "import pandas as pd\n"
   ]
  },
  {
   "cell_type": "code",
   "execution_count": 2,
   "id": "7f20a5f5",
   "metadata": {},
   "outputs": [
    {
     "name": "stdout",
     "output_type": "stream",
     "text": [
      "1\n"
     ]
    }
   ],
   "source": [
    "#pega ultima posição da string\n",
    "a = '19200421'\n",
    "ultimo_caractere = a[-1:]\n",
    "print(ultimo_caractere)"
   ]
  },
  {
   "cell_type": "code",
   "execution_count": 11,
   "id": "64e89f5c",
   "metadata": {},
   "outputs": [
    {
     "ename": "SyntaxError",
     "evalue": "invalid syntax (<unknown>, line 1)",
     "output_type": "error",
     "traceback": [
      "Traceback \u001b[1;36m(most recent call last)\u001b[0m:\n",
      "  File \u001b[0;32m~\\anaconda3\\lib\\site-packages\\IPython\\core\\interactiveshell.py:3369\u001b[0m in \u001b[0;35mrun_code\u001b[0m\n    exec(code_obj, self.user_global_ns, self.user_ns)\n",
      "  Input \u001b[0;32mIn [11]\u001b[0m in \u001b[0;35m<cell line: 4>\u001b[0m\n    lerExcel.query(\"CD_MUNICIPIO == ^00\" +ultimo_caractere, inplace = True)\n",
      "  File \u001b[0;32m~\\anaconda3\\lib\\site-packages\\pandas\\core\\frame.py:4111\u001b[0m in \u001b[0;35mquery\u001b[0m\n    res = self.eval(expr, **kwargs)\n",
      "  File \u001b[0;32m~\\anaconda3\\lib\\site-packages\\pandas\\core\\frame.py:4240\u001b[0m in \u001b[0;35meval\u001b[0m\n    return _eval(expr, inplace=inplace, **kwargs)\n",
      "  File \u001b[0;32m~\\anaconda3\\lib\\site-packages\\pandas\\core\\computation\\eval.py:350\u001b[0m in \u001b[0;35meval\u001b[0m\n    parsed_expr = Expr(expr, engine=engine, parser=parser, env=env)\n",
      "  File \u001b[0;32m~\\anaconda3\\lib\\site-packages\\pandas\\core\\computation\\expr.py:811\u001b[0m in \u001b[0;35m__init__\u001b[0m\n    self.terms = self.parse()\n",
      "  File \u001b[0;32m~\\anaconda3\\lib\\site-packages\\pandas\\core\\computation\\expr.py:830\u001b[0m in \u001b[0;35mparse\u001b[0m\n    return self._visitor.visit(self.expr)\n",
      "  File \u001b[0;32m~\\anaconda3\\lib\\site-packages\\pandas\\core\\computation\\expr.py:411\u001b[0m in \u001b[0;35mvisit\u001b[0m\n    raise e\n",
      "  File \u001b[0;32m~\\anaconda3\\lib\\site-packages\\pandas\\core\\computation\\expr.py:407\u001b[0m in \u001b[0;35mvisit\u001b[0m\n    node = ast.fix_missing_locations(ast.parse(clean))\n",
      "\u001b[1;36m  File \u001b[1;32m~\\anaconda3\\lib\\ast.py:50\u001b[1;36m in \u001b[1;35mparse\u001b[1;36m\u001b[0m\n\u001b[1;33m    return compile(source, filename, mode, flags,\u001b[0m\n",
      "\u001b[1;36m  File \u001b[1;32m<unknown>:1\u001b[1;36m\u001b[0m\n\u001b[1;33m    CD_MUNICIPIO ==^00 1\u001b[0m\n\u001b[1;37m                   ^\u001b[0m\n\u001b[1;31mSyntaxError\u001b[0m\u001b[1;31m:\u001b[0m invalid syntax\n"
     ]
    }
   ],
   "source": [
    "lerExcel = pd.read_csv('perfil_eleitor_secao_2018_RJ.csv' ,encoding='latin-1',  sep=';')\n",
    "\n",
    "# Filtrando o csv pelo código da cidade\n",
    "lerExcel.query(\"CD_MUNICIPIO == \" +ultimo_caractere, inplace = True)\n",
    "\n",
    "\n",
    "lerExcel"
   ]
  },
  {
   "cell_type": "code",
   "execution_count": null,
   "id": "7002ffa1",
   "metadata": {},
   "outputs": [],
   "source": []
  }
 ],
 "metadata": {
  "kernelspec": {
   "display_name": "Python 3 (ipykernel)",
   "language": "python",
   "name": "python3"
  },
  "language_info": {
   "codemirror_mode": {
    "name": "ipython",
    "version": 3
   },
   "file_extension": ".py",
   "mimetype": "text/x-python",
   "name": "python",
   "nbconvert_exporter": "python",
   "pygments_lexer": "ipython3",
   "version": "3.9.12"
  }
 },
 "nbformat": 4,
 "nbformat_minor": 5
}
